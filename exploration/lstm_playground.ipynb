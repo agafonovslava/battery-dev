{
 "metadata": {
  "language_info": {
   "codemirror_mode": {
    "name": "ipython",
    "version": 3
   },
   "file_extension": ".py",
   "mimetype": "text/x-python",
   "name": "python",
   "nbconvert_exporter": "python",
   "pygments_lexer": "ipython3",
   "version": "3.9.1-final"
  },
  "orig_nbformat": 2,
  "kernelspec": {
   "name": "python3",
   "display_name": "Python 3.9.1 64-bit",
   "metadata": {
    "interpreter": {
     "hash": "d4782380734fcaaa42d3f13b4afdd09fbc88bf05237eb19f5f04f4fd1620bf35"
    }
   }
  }
 },
 "nbformat": 4,
 "nbformat_minor": 2,
 "cells": [
  {
   "cell_type": "code",
   "execution_count": 26,
   "metadata": {},
   "outputs": [],
   "source": [
    "import copy\n",
    "import pandas as pd\n",
    "import numpy as np\n",
    "import torch as T\n",
    "from torch.nn.utils.rnn import pad_sequence\n",
    "from sklearn.model_selection import train_test_split\n",
    "from datetime import datetime\n",
    "device = T.device(\"cuda\" if T.cuda.is_available() else \"cpu\")"
   ]
  },
  {
   "cell_type": "code",
   "execution_count": 2,
   "metadata": {},
   "outputs": [
    {
     "output_type": "execute_result",
     "data": {
      "text/plain": [
       "             current   voltage  temperature  cycle\n",
       "timestamp                                         \n",
       "1585699584 -0.001839  0.961446     0.941176      0\n",
       "1585699585 -0.016636  0.960964     0.941176      0\n",
       "1585699586 -0.037809  0.960482     0.941176      0\n",
       "1585699587 -0.088862  0.959277     0.941176      0\n",
       "1585699588 -0.074760  0.959036     0.941176      0"
      ],
      "text/html": "<div>\n<style scoped>\n    .dataframe tbody tr th:only-of-type {\n        vertical-align: middle;\n    }\n\n    .dataframe tbody tr th {\n        vertical-align: top;\n    }\n\n    .dataframe thead th {\n        text-align: right;\n    }\n</style>\n<table border=\"1\" class=\"dataframe\">\n  <thead>\n    <tr style=\"text-align: right;\">\n      <th></th>\n      <th>current</th>\n      <th>voltage</th>\n      <th>temperature</th>\n      <th>cycle</th>\n    </tr>\n    <tr>\n      <th>timestamp</th>\n      <th></th>\n      <th></th>\n      <th></th>\n      <th></th>\n    </tr>\n  </thead>\n  <tbody>\n    <tr>\n      <th>1585699584</th>\n      <td>-0.001839</td>\n      <td>0.961446</td>\n      <td>0.941176</td>\n      <td>0</td>\n    </tr>\n    <tr>\n      <th>1585699585</th>\n      <td>-0.016636</td>\n      <td>0.960964</td>\n      <td>0.941176</td>\n      <td>0</td>\n    </tr>\n    <tr>\n      <th>1585699586</th>\n      <td>-0.037809</td>\n      <td>0.960482</td>\n      <td>0.941176</td>\n      <td>0</td>\n    </tr>\n    <tr>\n      <th>1585699587</th>\n      <td>-0.088862</td>\n      <td>0.959277</td>\n      <td>0.941176</td>\n      <td>0</td>\n    </tr>\n    <tr>\n      <th>1585699588</th>\n      <td>-0.074760</td>\n      <td>0.959036</td>\n      <td>0.941176</td>\n      <td>0</td>\n    </tr>\n  </tbody>\n</table>\n</div>"
     },
     "metadata": {},
     "execution_count": 2
    }
   ],
   "source": [
    "cycle_data = pd.read_csv('../data/raw_cycle_labeled.csv', index_col='timestamp')\n",
    "cycle_data.head()"
   ]
  },
  {
   "cell_type": "code",
   "execution_count": 3,
   "metadata": {},
   "outputs": [
    {
     "output_type": "stream",
     "name": "stdout",
     "text": [
      "num cycles: 22\n"
     ]
    },
    {
     "output_type": "execute_result",
     "data": {
      "text/plain": [
       "   cycle                                            voltage  \\\n",
       "0      0  [0.9614458, 0.96096385, 0.96048194, 0.9592771,...   \n",
       "1      1  [0.9592771, 0.9592771, 0.9592771, 0.9592771, 0...   \n",
       "2      2  [0.9696385, 0.9696385, 0.9696385, 0.9696385, 0...   \n",
       "3      3  [0.97927713, 0.97951806, 0.97951806, 0.9792771...   \n",
       "4      4  [0.9891566, 0.9891566, 0.9891566, 0.9891566, 0...   \n",
       "\n",
       "                                             current  \\\n",
       "0  [-0.0018393623, -0.01663601, -0.037809115, -0....   \n",
       "1  [0.5085633, 0.50063354, 0.49593297, 0.49646434...   \n",
       "2  [0.51162887, 0.511588, 0.50991213, 0.5027999, ...   \n",
       "3  [0.50647867, 0.5064378, 0.50247294, 0.49777234...   \n",
       "4  [0.5014919, 0.5014511, 0.49642345, 0.49286735,...   \n",
       "\n",
       "                                         temperature  \n",
       "0  [0.9411765, 0.9411765, 0.9411765, 0.9411765, 0...  \n",
       "1  [0.9485294, 0.9485294, 0.9485294, 0.9485294, 0...  \n",
       "2  [0.94485295, 0.94485295, 0.94485295, 0.9448529...  \n",
       "3  [0.94485295, 0.94485295, 0.94485295, 0.9448529...  \n",
       "4  [0.9411765, 0.9411765, 0.9411765, 0.9411765, 0...  "
      ],
      "text/html": "<div>\n<style scoped>\n    .dataframe tbody tr th:only-of-type {\n        vertical-align: middle;\n    }\n\n    .dataframe tbody tr th {\n        vertical-align: top;\n    }\n\n    .dataframe thead th {\n        text-align: right;\n    }\n</style>\n<table border=\"1\" class=\"dataframe\">\n  <thead>\n    <tr style=\"text-align: right;\">\n      <th></th>\n      <th>cycle</th>\n      <th>voltage</th>\n      <th>current</th>\n      <th>temperature</th>\n    </tr>\n  </thead>\n  <tbody>\n    <tr>\n      <th>0</th>\n      <td>0</td>\n      <td>[0.9614458, 0.96096385, 0.96048194, 0.9592771,...</td>\n      <td>[-0.0018393623, -0.01663601, -0.037809115, -0....</td>\n      <td>[0.9411765, 0.9411765, 0.9411765, 0.9411765, 0...</td>\n    </tr>\n    <tr>\n      <th>1</th>\n      <td>1</td>\n      <td>[0.9592771, 0.9592771, 0.9592771, 0.9592771, 0...</td>\n      <td>[0.5085633, 0.50063354, 0.49593297, 0.49646434...</td>\n      <td>[0.9485294, 0.9485294, 0.9485294, 0.9485294, 0...</td>\n    </tr>\n    <tr>\n      <th>2</th>\n      <td>2</td>\n      <td>[0.9696385, 0.9696385, 0.9696385, 0.9696385, 0...</td>\n      <td>[0.51162887, 0.511588, 0.50991213, 0.5027999, ...</td>\n      <td>[0.94485295, 0.94485295, 0.94485295, 0.9448529...</td>\n    </tr>\n    <tr>\n      <th>3</th>\n      <td>3</td>\n      <td>[0.97927713, 0.97951806, 0.97951806, 0.9792771...</td>\n      <td>[0.50647867, 0.5064378, 0.50247294, 0.49777234...</td>\n      <td>[0.94485295, 0.94485295, 0.94485295, 0.9448529...</td>\n    </tr>\n    <tr>\n      <th>4</th>\n      <td>4</td>\n      <td>[0.9891566, 0.9891566, 0.9891566, 0.9891566, 0...</td>\n      <td>[0.5014919, 0.5014511, 0.49642345, 0.49286735,...</td>\n      <td>[0.9411765, 0.9411765, 0.9411765, 0.9411765, 0...</td>\n    </tr>\n  </tbody>\n</table>\n</div>"
     },
     "metadata": {},
     "execution_count": 3
    }
   ],
   "source": [
    "print(f\"num cycles: {cycle_data.cycle.unique().max()}\")\n",
    "cycle_records = []\n",
    "for cycle in cycle_data.cycle.unique():\n",
    "    data = cycle_data.loc[cycle_data.cycle == cycle]\n",
    "    record = {}\n",
    "    record['cycle'] = cycle\n",
    "    record['voltage'] = data.voltage.astype(np.float32).values\n",
    "    record['current'] = data.current.astype(np.float32).values\n",
    "    record['temperature'] = data.temperature.astype(np.float32).values\n",
    "    cycle_records.append(record)\n",
    "cycles = pd.DataFrame.from_records(cycle_records)\n",
    "cycles.set_index('cycle')\n",
    "cycles.head()"
   ]
  },
  {
   "cell_type": "code",
   "execution_count": 21,
   "metadata": {},
   "outputs": [
    {
     "output_type": "stream",
     "name": "stdout",
     "text": [
      "seq_len:48711, n_seq:23, n_features:1\n"
     ]
    }
   ],
   "source": [
    "def create_padded_tensor(df, column_name):\n",
    "    sequences = [T.tensor(seq).unsqueeze(1).float() for seq in df[column_name]]\n",
    "    dataset = pad_sequence(sequences, padding_value=0, batch_first=True)\n",
    "    n_seq, seq_len, n_features = dataset.shape\n",
    "    return dataset, seq_len, n_seq, n_features\n",
    "feature_dataset, seq_len, n_seq, n_features = create_padded_tensor(cycles, 'current')\n",
    "train_X, val_X, test_X = feature_dataset[0:15], feature_dataset[15:19], feature_dataset[19:]\n",
    "print(f\"seq_len:{seq_len}, n_seq:{n_seq}, n_features:{n_features}\")\n",
    "target_dataset, _, _, _ = create_padded_tensor(cycles, 'voltage')\n",
    "train_Y, val_Y, test_Y = target_dataset[0:15], target_dataset[15:19], target_dataset[19:]"
   ]
  },
  {
   "cell_type": "code",
   "execution_count": 9,
   "metadata": {},
   "outputs": [],
   "source": [
    "class Encoder(T.nn.Module):\n",
    "\n",
    "  def __init__(self, seq_len, n_features, embedding_dim=64):\n",
    "    super(Encoder, self).__init__()\n",
    "\n",
    "    self.seq_len, self.n_features = seq_len, n_features\n",
    "    self.embedding_dim, self.hidden_dim = embedding_dim, 2 * embedding_dim\n",
    "\n",
    "    self.rnn1 = T.nn.LSTM(\n",
    "      input_size=n_features,\n",
    "      hidden_size=self.hidden_dim,\n",
    "      num_layers=1,\n",
    "      batch_first=True\n",
    "    )\n",
    "    \n",
    "    self.rnn2 = T.nn.LSTM(\n",
    "      input_size=self.hidden_dim,\n",
    "      hidden_size=embedding_dim,\n",
    "      num_layers=1,\n",
    "      batch_first=True\n",
    "    )\n",
    "\n",
    "  def forward(self, x):\n",
    "    x = x.reshape((1, self.seq_len, self.n_features))\n",
    "\n",
    "    x, (_, _) = self.rnn1(x)\n",
    "    x, (hidden_n, _) = self.rnn2(x)\n",
    "\n",
    "    return hidden_n.reshape((self.n_features, self.embedding_dim))"
   ]
  },
  {
   "cell_type": "code",
   "execution_count": 10,
   "metadata": {},
   "outputs": [],
   "source": [
    "class Decoder(T.nn.Module):\n",
    "\n",
    "  def __init__(self, seq_len, input_dim=64, n_features=1):\n",
    "    super(Decoder, self).__init__()\n",
    "\n",
    "    self.seq_len, self.input_dim = seq_len, input_dim\n",
    "    self.hidden_dim, self.n_features = 2 * input_dim, n_features\n",
    "\n",
    "    self.rnn1 = T.nn.LSTM(\n",
    "      input_size=input_dim,\n",
    "      hidden_size=input_dim,\n",
    "      num_layers=1,\n",
    "      batch_first=True\n",
    "    )\n",
    "\n",
    "    self.rnn2 = T.nn.LSTM(\n",
    "      input_size=input_dim,\n",
    "      hidden_size=self.hidden_dim,\n",
    "      num_layers=1,\n",
    "      batch_first=True\n",
    "    )\n",
    "\n",
    "    self.output_layer = T.nn.Linear(self.hidden_dim, n_features)\n",
    "\n",
    "  def forward(self, x):\n",
    "    x = x.repeat(self.seq_len, self.n_features)\n",
    "    x = x.reshape((self.n_features, self.seq_len, self.input_dim))\n",
    "\n",
    "    x, (hidden_n, cell_n) = self.rnn1(x)\n",
    "    x, (hidden_n, cell_n) = self.rnn2(x)\n",
    "    x = x.reshape((self.seq_len, self.hidden_dim))\n",
    "\n",
    "    return self.output_layer(x)"
   ]
  },
  {
   "cell_type": "code",
   "execution_count": 11,
   "metadata": {},
   "outputs": [],
   "source": [
    "class RecurrentAutoencoder(T.nn.Module):\n",
    "\n",
    "  def __init__(self, seq_len, n_features, embedding_dim=64):\n",
    "    super(RecurrentAutoencoder, self).__init__()\n",
    "\n",
    "    self.encoder = Encoder(seq_len, n_features, embedding_dim).to(device)\n",
    "    self.decoder = Decoder(seq_len, embedding_dim, n_features).to(device)\n",
    "\n",
    "  def forward(self, x):\n",
    "    x = self.encoder(x)\n",
    "    x = self.decoder(x)\n",
    "\n",
    "    return x"
   ]
  },
  {
   "cell_type": "code",
   "execution_count": 22,
   "metadata": {},
   "outputs": [],
   "source": [
    "model = RecurrentAutoencoder(seq_len, n_features, 128)\n",
    "model = model.to(device)"
   ]
  },
  {
   "cell_type": "code",
   "execution_count": 27,
   "metadata": {},
   "outputs": [],
   "source": [
    "def train_model(model, train_dataset, val_dataset, n_epochs):\n",
    "  optimizer = T.optim.Adam(model.parameters(), lr=1e-3)\n",
    "  criterion = T.nn.L1Loss(reduction='sum').to(device)\n",
    "  history = dict(train=[], val=[])\n",
    "\n",
    "  best_model_wts = copy.deepcopy(model.state_dict())\n",
    "  best_loss = 10000000.0\n",
    "  \n",
    "  for epoch in range(1, n_epochs + 1):\n",
    "    start = datetime.now()\n",
    "    model = model.train()\n",
    "\n",
    "    train_losses = []\n",
    "    for seq_true in train_dataset:\n",
    "      optimizer.zero_grad()\n",
    "\n",
    "      seq_true = seq_true.to(device)\n",
    "      seq_pred = model(seq_true)\n",
    "\n",
    "      loss = criterion(seq_pred, seq_true)\n",
    "\n",
    "      loss.backward()\n",
    "      optimizer.step()\n",
    "\n",
    "      train_losses.append(loss.item())\n",
    "\n",
    "    val_losses = []\n",
    "    model = model.eval()\n",
    "    with T.no_grad():\n",
    "      for seq_true in val_dataset:\n",
    "\n",
    "        seq_true = seq_true.to(device)\n",
    "        seq_pred = model(seq_true)\n",
    "\n",
    "        loss = criterion(seq_pred, seq_true)\n",
    "        val_losses.append(loss.item())\n",
    "\n",
    "    train_loss = np.mean(train_losses)\n",
    "    val_loss = np.mean(val_losses)\n",
    "\n",
    "    history['train'].append(train_loss)\n",
    "    history['val'].append(val_loss)\n",
    "\n",
    "    if val_loss < best_loss:\n",
    "      best_loss = val_loss\n",
    "      best_model_wts = copy.deepcopy(model.state_dict())\n",
    "    end = datetime.now()\n",
    "    print(f'Epoch {epoch}: train loss {train_loss} val loss {val_loss}. Duration {end-start}')\n",
    "\n",
    "  model.load_state_dict(best_model_wts)\n",
    "  return model.eval(), history"
   ]
  },
  {
   "cell_type": "code",
   "execution_count": 28,
   "metadata": {},
   "outputs": [
    {
     "output_type": "stream",
     "name": "stdout",
     "text": [
      "Epoch 1: train loss 1032.047762044271 val loss 734.994140625. Duration 0:20:32.127490\n",
      "Epoch 2: train loss 749.9232757568359 val loss 714.5650329589844. Duration 0:25:13.780087\n",
      "Epoch 3: train loss 676.8711395263672 val loss 751.3839874267578. Duration 0:22:58.696246\n",
      "Epoch 4: train loss 685.8586771647135 val loss 699.7767486572266. Duration 0:22:05.844458\n",
      "Epoch 5: train loss 672.9889862060547 val loss 718.4171905517578. Duration 0:24:20.604843\n"
     ]
    }
   ],
   "source": [
    "model, history = train_model(\n",
    "  model, \n",
    "  train_X, \n",
    "  val_X, \n",
    "  n_epochs=5\n",
    ")"
   ]
  },
  {
   "cell_type": "code",
   "execution_count": null,
   "metadata": {},
   "outputs": [],
   "source": []
  }
 ]
}