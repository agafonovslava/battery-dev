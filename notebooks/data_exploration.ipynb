{
 "cells": [
  {
   "cell_type": "code",
   "execution_count": 1,
   "id": "compliant-snapshot",
   "metadata": {},
   "outputs": [],
   "source": [
    "import plotly.graph_objects as go\n",
    "import pandas as pd\n",
    "import glob\n",
    "import os"
   ]
  },
  {
   "cell_type": "code",
   "execution_count": 2,
   "id": "dirty-providence",
   "metadata": {},
   "outputs": [],
   "source": [
    "def stem(path: str):\n",
    "    return os.path.basename(path).split('.')[0]"
   ]
  },
  {
   "cell_type": "code",
   "execution_count": null,
   "id": "guided-actress",
   "metadata": {},
   "outputs": [],
   "source": [
    "files = glob.glob('../data/*')\n",
    "for file in files:\n",
    "    df = pd.read_csv(file)\n",
    "    # in-place normalization\n",
    "    [\n",
    "       df[col].update(\n",
    "            (df[col] - df[col].min()) / (df[col].max() - df[col].min()))\n",
    "            for col in ['voltage', 'current']\n",
    "    ]\n",
    "    fig = go.Figure()\n",
    "    voltage_shifted = df.voltage.add(0.5)\n",
    "    fig.add_trace(go.Scattergl(x=df.timestamp, y=voltage_shifted, opacity=0.1, legendgroup='V'))\n",
    "    fig.add_trace(go.Scattergl(x=df.timestamp, y=df.current, opacity=0.1, legendgroup='C'))\n",
    "    fig.write_html(f\"{stem(file)}-current.html\")"
   ]
  },
  {
   "cell_type": "markdown",
   "id": "committed-analysis",
   "metadata": {},
   "source": [
    "Open the htmls alone- they're big."
   ]
  }
 ],
 "metadata": {
  "kernelspec": {
   "display_name": "Python 3",
   "language": "python",
   "name": "python3"
  },
  "language_info": {
   "codemirror_mode": {
    "name": "ipython",
    "version": 3
   },
   "file_extension": ".py",
   "mimetype": "text/x-python",
   "name": "python",
   "nbconvert_exporter": "python",
   "pygments_lexer": "ipython3",
   "version": "3.9.2"
  }
 },
 "nbformat": 4,
 "nbformat_minor": 5
}
