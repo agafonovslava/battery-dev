{
 "cells": [
  {
   "cell_type": "code",
   "execution_count": null,
   "id": "amino-suggestion",
   "metadata": {},
   "outputs": [],
   "source": [
    "#hide\n",
    "#default_exp signal_processing"
   ]
  },
  {
   "cell_type": "markdown",
   "id": "behavioral-colors",
   "metadata": {},
   "source": [
    "# Signal Processing Functions"
   ]
  },
  {
   "cell_type": "code",
   "execution_count": null,
   "id": "sweet-ladder",
   "metadata": {},
   "outputs": [],
   "source": [
    "from scipy.signal import find_peaks, savgol_filter\n",
    "#export\n",
    "def find_peaks_clean(signal, sv_window: int = 301, sv_polyorder: int = 1, peak_prominence: float = 0.03):\n",
    "    smoothed = savgol_filter(signal, sv_window, sv_polyorder)\n",
    "    peaks, _ = find_peaks(smoothed, prominence=peak_prominence)\n",
    "    return peaks"
   ]
  },
  {
   "cell_type": "code",
   "execution_count": null,
   "id": "champion-carnival",
   "metadata": {},
   "outputs": [
    {
     "data": {
      "text/html": [
       "<div>\n",
       "<style scoped>\n",
       "    .dataframe tbody tr th:only-of-type {\n",
       "        vertical-align: middle;\n",
       "    }\n",
       "\n",
       "    .dataframe tbody tr th {\n",
       "        vertical-align: top;\n",
       "    }\n",
       "\n",
       "    .dataframe thead th {\n",
       "        text-align: right;\n",
       "    }\n",
       "</style>\n",
       "<table border=\"1\" class=\"dataframe\">\n",
       "  <thead>\n",
       "    <tr style=\"text-align: right;\">\n",
       "      <th></th>\n",
       "      <th>timestamp</th>\n",
       "      <th>current</th>\n",
       "      <th>voltage</th>\n",
       "      <th>temperature</th>\n",
       "    </tr>\n",
       "  </thead>\n",
       "  <tbody>\n",
       "    <tr>\n",
       "      <th>0</th>\n",
       "      <td>1585699584</td>\n",
       "      <td>-0.045</td>\n",
       "      <td>3.990</td>\n",
       "      <td>25.6</td>\n",
       "    </tr>\n",
       "    <tr>\n",
       "      <th>1</th>\n",
       "      <td>1585699585</td>\n",
       "      <td>-0.407</td>\n",
       "      <td>3.988</td>\n",
       "      <td>25.6</td>\n",
       "    </tr>\n",
       "    <tr>\n",
       "      <th>2</th>\n",
       "      <td>1585699586</td>\n",
       "      <td>-0.925</td>\n",
       "      <td>3.986</td>\n",
       "      <td>25.6</td>\n",
       "    </tr>\n",
       "    <tr>\n",
       "      <th>3</th>\n",
       "      <td>1585699587</td>\n",
       "      <td>-2.174</td>\n",
       "      <td>3.981</td>\n",
       "      <td>25.6</td>\n",
       "    </tr>\n",
       "    <tr>\n",
       "      <th>4</th>\n",
       "      <td>1585699588</td>\n",
       "      <td>-1.829</td>\n",
       "      <td>3.980</td>\n",
       "      <td>25.6</td>\n",
       "    </tr>\n",
       "  </tbody>\n",
       "</table>\n",
       "</div>"
      ],
      "text/plain": [
       "    timestamp  current  voltage  temperature\n",
       "0  1585699584   -0.045    3.990         25.6\n",
       "1  1585699585   -0.407    3.988         25.6\n",
       "2  1585699586   -0.925    3.986         25.6\n",
       "3  1585699587   -2.174    3.981         25.6\n",
       "4  1585699588   -1.829    3.980         25.6"
      ]
     },
     "execution_count": null,
     "metadata": {},
     "output_type": "execute_result"
    }
   ],
   "source": [
    "import pandas as pd\n",
    "battery_perf = pd.read_csv('../data/2020-4.csv')\n",
    "battery_perf = battery_perf.loc[0:10000, :]\n",
    "battery_perf.head()"
   ]
  },
  {
   "cell_type": "code",
   "execution_count": null,
   "id": "descending-beauty",
   "metadata": {},
   "outputs": [
    {
     "data": {
      "text/html": [
       "<div>\n",
       "<style scoped>\n",
       "    .dataframe tbody tr th:only-of-type {\n",
       "        vertical-align: middle;\n",
       "    }\n",
       "\n",
       "    .dataframe tbody tr th {\n",
       "        vertical-align: top;\n",
       "    }\n",
       "\n",
       "    .dataframe thead th {\n",
       "        text-align: right;\n",
       "    }\n",
       "</style>\n",
       "<table border=\"1\" class=\"dataframe\">\n",
       "  <thead>\n",
       "    <tr style=\"text-align: right;\">\n",
       "      <th></th>\n",
       "      <th>timestamp</th>\n",
       "      <th>current</th>\n",
       "      <th>voltage</th>\n",
       "      <th>temperature</th>\n",
       "    </tr>\n",
       "  </thead>\n",
       "  <tbody>\n",
       "    <tr>\n",
       "      <th>3649</th>\n",
       "      <td>1585703233</td>\n",
       "      <td>8.994</td>\n",
       "      <td>3.991</td>\n",
       "      <td>25.8</td>\n",
       "    </tr>\n",
       "    <tr>\n",
       "      <th>7060</th>\n",
       "      <td>1585706644</td>\n",
       "      <td>8.873</td>\n",
       "      <td>4.033</td>\n",
       "      <td>25.7</td>\n",
       "    </tr>\n",
       "  </tbody>\n",
       "</table>\n",
       "</div>"
      ],
      "text/plain": [
       "       timestamp  current  voltage  temperature\n",
       "3649  1585703233    8.994    3.991         25.8\n",
       "7060  1585706644    8.873    4.033         25.7"
      ]
     },
     "execution_count": null,
     "metadata": {},
     "output_type": "execute_result"
    }
   ],
   "source": [
    "peaks = find_peaks_clean(battery_perf.voltage)\n",
    "peaks = battery_perf.loc[peaks, :]\n",
    "peaks.head()"
   ]
  },
  {
   "cell_type": "code",
   "execution_count": null,
   "id": "congressional-estimate",
   "metadata": {},
   "outputs": [
    {
     "data": {
      "text/plain": [
       "<AxesSubplot:xlabel='timestamp', ylabel='voltage'>"
      ]
     },
     "execution_count": null,
     "metadata": {},
     "output_type": "execute_result"
    },
    {
     "data": {
      "image/png": "[encoded data removed]",
      "text/plain": [
       "<Figure size 432x288 with 1 Axes>"
      ]
     },
     "metadata": {
      "needs_background": "light"
     },
     "output_type": "display_data"
    }
   ],
   "source": [
    "import seaborn as sb\n",
    "sb.lineplot(data=battery_perf, x=\"timestamp\", y=\"voltage\")\n",
    "sb.scatterplot(data=peaks, x=\"timestamp\", y=\"voltage\", color='r')"
   ]
  },
  {
   "cell_type": "code",
   "execution_count": null,
   "id": "round-building",
   "metadata": {},
   "outputs": [],
   "source": []
  }
 ],
 "metadata": {
  "kernelspec": {
   "display_name": "Python 3",
   "language": "python",
   "name": "python3"
  }
 },
 "nbformat": 4,
 "nbformat_minor": 5
}
