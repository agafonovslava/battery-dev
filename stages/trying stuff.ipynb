{
 "cells": [
  {
   "cell_type": "code",
   "execution_count": 26,
   "metadata": {},
   "outputs": [],
   "source": [
    "import pandas as pd\n",
    "import numpy as np\n",
    "import scipy\n",
    "import matplotlib.pyplot as plt"
   ]
  },
  {
   "cell_type": "code",
   "execution_count": 17,
   "metadata": {},
   "outputs": [],
   "source": [
    "df_x = pd.read_csv(\"../data/concatenated_battery_profile.csv\")"
   ]
  },
  {
   "cell_type": "code",
   "execution_count": 18,
   "metadata": {},
   "outputs": [
    {
     "data": {
      "text/html": [
       "<div>\n",
       "<style scoped>\n",
       "    .dataframe tbody tr th:only-of-type {\n",
       "        vertical-align: middle;\n",
       "    }\n",
       "\n",
       "    .dataframe tbody tr th {\n",
       "        vertical-align: top;\n",
       "    }\n",
       "\n",
       "    .dataframe thead th {\n",
       "        text-align: right;\n",
       "    }\n",
       "</style>\n",
       "<table border=\"1\" class=\"dataframe\">\n",
       "  <thead>\n",
       "    <tr style=\"text-align: right;\">\n",
       "      <th></th>\n",
       "      <th>timestamp</th>\n",
       "      <th>current</th>\n",
       "      <th>voltage</th>\n",
       "      <th>temperature</th>\n",
       "    </tr>\n",
       "  </thead>\n",
       "  <tbody>\n",
       "    <tr>\n",
       "      <th>0</th>\n",
       "      <td>1585699584</td>\n",
       "      <td>-0.045</td>\n",
       "      <td>3.990</td>\n",
       "      <td>25.6</td>\n",
       "    </tr>\n",
       "    <tr>\n",
       "      <th>1</th>\n",
       "      <td>1585699585</td>\n",
       "      <td>-0.407</td>\n",
       "      <td>3.988</td>\n",
       "      <td>25.6</td>\n",
       "    </tr>\n",
       "    <tr>\n",
       "      <th>2</th>\n",
       "      <td>1585699586</td>\n",
       "      <td>-0.925</td>\n",
       "      <td>3.986</td>\n",
       "      <td>25.6</td>\n",
       "    </tr>\n",
       "    <tr>\n",
       "      <th>3</th>\n",
       "      <td>1585699587</td>\n",
       "      <td>-2.174</td>\n",
       "      <td>3.981</td>\n",
       "      <td>25.6</td>\n",
       "    </tr>\n",
       "    <tr>\n",
       "      <th>4</th>\n",
       "      <td>1585699588</td>\n",
       "      <td>-1.829</td>\n",
       "      <td>3.980</td>\n",
       "      <td>25.6</td>\n",
       "    </tr>\n",
       "  </tbody>\n",
       "</table>\n",
       "</div>"
      ],
      "text/plain": [
       "    timestamp  current  voltage  temperature\n",
       "0  1585699584   -0.045    3.990         25.6\n",
       "1  1585699585   -0.407    3.988         25.6\n",
       "2  1585699586   -0.925    3.986         25.6\n",
       "3  1585699587   -2.174    3.981         25.6\n",
       "4  1585699588   -1.829    3.980         25.6"
      ]
     },
     "execution_count": 18,
     "metadata": {},
     "output_type": "execute_result"
    }
   ],
   "source": [
    "df_x.drop(columns='Unnamed: 0', inplace=True)\n",
    "df_x.head()"
   ]
  },
  {
   "cell_type": "code",
   "execution_count": 19,
   "metadata": {},
   "outputs": [
    {
     "data": {
      "text/html": [
       "<div>\n",
       "<style scoped>\n",
       "    .dataframe tbody tr th:only-of-type {\n",
       "        vertical-align: middle;\n",
       "    }\n",
       "\n",
       "    .dataframe tbody tr th {\n",
       "        vertical-align: top;\n",
       "    }\n",
       "\n",
       "    .dataframe thead th {\n",
       "        text-align: right;\n",
       "    }\n",
       "</style>\n",
       "<table border=\"1\" class=\"dataframe\">\n",
       "  <thead>\n",
       "    <tr style=\"text-align: right;\">\n",
       "      <th></th>\n",
       "      <th>timestamp</th>\n",
       "      <th>current</th>\n",
       "      <th>voltage</th>\n",
       "      <th>temperature</th>\n",
       "      <th>t_days</th>\n",
       "    </tr>\n",
       "  </thead>\n",
       "  <tbody>\n",
       "    <tr>\n",
       "      <th>0</th>\n",
       "      <td>1585699584</td>\n",
       "      <td>-0.045</td>\n",
       "      <td>3.990</td>\n",
       "      <td>25.6</td>\n",
       "      <td>0.000000</td>\n",
       "    </tr>\n",
       "    <tr>\n",
       "      <th>1</th>\n",
       "      <td>1585699585</td>\n",
       "      <td>-0.407</td>\n",
       "      <td>3.988</td>\n",
       "      <td>25.6</td>\n",
       "      <td>0.000012</td>\n",
       "    </tr>\n",
       "    <tr>\n",
       "      <th>2</th>\n",
       "      <td>1585699586</td>\n",
       "      <td>-0.925</td>\n",
       "      <td>3.986</td>\n",
       "      <td>25.6</td>\n",
       "      <td>0.000023</td>\n",
       "    </tr>\n",
       "    <tr>\n",
       "      <th>3</th>\n",
       "      <td>1585699587</td>\n",
       "      <td>-2.174</td>\n",
       "      <td>3.981</td>\n",
       "      <td>25.6</td>\n",
       "      <td>0.000035</td>\n",
       "    </tr>\n",
       "    <tr>\n",
       "      <th>4</th>\n",
       "      <td>1585699588</td>\n",
       "      <td>-1.829</td>\n",
       "      <td>3.980</td>\n",
       "      <td>25.6</td>\n",
       "      <td>0.000046</td>\n",
       "    </tr>\n",
       "  </tbody>\n",
       "</table>\n",
       "</div>"
      ],
      "text/plain": [
       "    timestamp  current  voltage  temperature    t_days\n",
       "0  1585699584   -0.045    3.990         25.6  0.000000\n",
       "1  1585699585   -0.407    3.988         25.6  0.000012\n",
       "2  1585699586   -0.925    3.986         25.6  0.000023\n",
       "3  1585699587   -2.174    3.981         25.6  0.000035\n",
       "4  1585699588   -1.829    3.980         25.6  0.000046"
      ]
     },
     "execution_count": 19,
     "metadata": {},
     "output_type": "execute_result"
    }
   ],
   "source": [
    "df_x['t_days'] = (df_x.timestamp-df_x.timestamp[0])/(24*3600)\n",
    "df_x.head()"
   ]
  },
  {
   "cell_type": "markdown",
   "metadata": {},
   "source": [
    "Make a power law model to interpolate synthetic y values for training from the 4 ground truth values we're given. Obviously this is making an assumption about the nature of the fade, but we only have 4 training values, so what're we gonna do"
   ]
  },
  {
   "cell_type": "code",
   "execution_count": 20,
   "metadata": {},
   "outputs": [
    {
     "data": {
      "text/html": [
       "<div>\n",
       "<style scoped>\n",
       "    .dataframe tbody tr th:only-of-type {\n",
       "        vertical-align: middle;\n",
       "    }\n",
       "\n",
       "    .dataframe tbody tr th {\n",
       "        vertical-align: top;\n",
       "    }\n",
       "\n",
       "    .dataframe thead th {\n",
       "        text-align: right;\n",
       "    }\n",
       "</style>\n",
       "<table border=\"1\" class=\"dataframe\">\n",
       "  <thead>\n",
       "    <tr style=\"text-align: right;\">\n",
       "      <th></th>\n",
       "      <th>timestamp</th>\n",
       "      <th>Q_discharge</th>\n",
       "    </tr>\n",
       "  </thead>\n",
       "  <tbody>\n",
       "    <tr>\n",
       "      <th>0</th>\n",
       "      <td>1.585731e+09</td>\n",
       "      <td>-11.403694</td>\n",
       "    </tr>\n",
       "    <tr>\n",
       "      <th>1</th>\n",
       "      <td>1.587712e+09</td>\n",
       "      <td>-11.341753</td>\n",
       "    </tr>\n",
       "    <tr>\n",
       "      <th>2</th>\n",
       "      <td>1.590127e+09</td>\n",
       "      <td>-11.307378</td>\n",
       "    </tr>\n",
       "    <tr>\n",
       "      <th>3</th>\n",
       "      <td>1.592392e+09</td>\n",
       "      <td>-11.277411</td>\n",
       "    </tr>\n",
       "  </tbody>\n",
       "</table>\n",
       "</div>"
      ],
      "text/plain": [
       "      timestamp  Q_discharge\n",
       "0  1.585731e+09   -11.403694\n",
       "1  1.587712e+09   -11.341753\n",
       "2  1.590127e+09   -11.307378\n",
       "3  1.592392e+09   -11.277411"
      ]
     },
     "execution_count": 20,
     "metadata": {},
     "output_type": "execute_result"
    }
   ],
   "source": [
    "df_y = pd.read_csv(\"../data/target.csv\")\n",
    "df_y"
   ]
  },
  {
   "cell_type": "code",
   "execution_count": 77,
   "metadata": {},
   "outputs": [
    {
     "data": {
      "text/html": [
       "<div>\n",
       "<style scoped>\n",
       "    .dataframe tbody tr th:only-of-type {\n",
       "        vertical-align: middle;\n",
       "    }\n",
       "\n",
       "    .dataframe tbody tr th {\n",
       "        vertical-align: top;\n",
       "    }\n",
       "\n",
       "    .dataframe thead th {\n",
       "        text-align: right;\n",
       "    }\n",
       "</style>\n",
       "<table border=\"1\" class=\"dataframe\">\n",
       "  <thead>\n",
       "    <tr style=\"text-align: right;\">\n",
       "      <th></th>\n",
       "      <th>timestamp</th>\n",
       "      <th>Q_discharge</th>\n",
       "      <th>t_days</th>\n",
       "      <th>log_t_days</th>\n",
       "      <th>abs_Q_discharge</th>\n",
       "      <th>y</th>\n",
       "    </tr>\n",
       "  </thead>\n",
       "  <tbody>\n",
       "    <tr>\n",
       "      <th>0</th>\n",
       "      <td>1.585731e+09</td>\n",
       "      <td>-11.403694</td>\n",
       "      <td>0.000000</td>\n",
       "      <td>-inf</td>\n",
       "      <td>11.403694</td>\n",
       "      <td>11.403694</td>\n",
       "    </tr>\n",
       "    <tr>\n",
       "      <th>1</th>\n",
       "      <td>1.587712e+09</td>\n",
       "      <td>-11.341753</td>\n",
       "      <td>22.933657</td>\n",
       "      <td>3.132606</td>\n",
       "      <td>11.341753</td>\n",
       "      <td>11.341753</td>\n",
       "    </tr>\n",
       "    <tr>\n",
       "      <th>2</th>\n",
       "      <td>1.590127e+09</td>\n",
       "      <td>-11.307378</td>\n",
       "      <td>50.879537</td>\n",
       "      <td>3.929461</td>\n",
       "      <td>11.307378</td>\n",
       "      <td>11.307378</td>\n",
       "    </tr>\n",
       "    <tr>\n",
       "      <th>3</th>\n",
       "      <td>1.592392e+09</td>\n",
       "      <td>-11.277411</td>\n",
       "      <td>77.089931</td>\n",
       "      <td>4.344973</td>\n",
       "      <td>11.277411</td>\n",
       "      <td>11.277411</td>\n",
       "    </tr>\n",
       "  </tbody>\n",
       "</table>\n",
       "</div>"
      ],
      "text/plain": [
       "      timestamp  Q_discharge     t_days  log_t_days  abs_Q_discharge  \\\n",
       "0  1.585731e+09   -11.403694   0.000000        -inf        11.403694   \n",
       "1  1.587712e+09   -11.341753  22.933657    3.132606        11.341753   \n",
       "2  1.590127e+09   -11.307378  50.879537    3.929461        11.307378   \n",
       "3  1.592392e+09   -11.277411  77.089931    4.344973        11.277411   \n",
       "\n",
       "           y  \n",
       "0  11.403694  \n",
       "1  11.341753  \n",
       "2  11.307378  \n",
       "3  11.277411  "
      ]
     },
     "execution_count": 77,
     "metadata": {},
     "output_type": "execute_result"
    }
   ],
   "source": [
    "df_y['t_days'] = (df_y.timestamp-df_y.timestamp[0])/(24*3600)\n",
    "df_y['y'] = np.abs(df_y.Q_discharge)\n",
    "df_y.head()"
   ]
  },
  {
   "cell_type": "code",
   "execution_count": 78,
   "metadata": {},
   "outputs": [],
   "source": [
    "# Define function for calculating a power law, and an error function\n",
    "capacityFadeModel = lambda q0, t, amp, power: q0 - (amp*t)**power\n",
    "def error(p, x, y):\n",
    "    y0 = y[0]\n",
    "    yPred = capacityFadeModel(y0, x, p[0], p[1])\n",
    "    return (y-yPred)"
   ]
  },
  {
   "cell_type": "code",
   "execution_count": 79,
   "metadata": {},
   "outputs": [
    {
     "data": {
      "text/plain": [
       "array([ 0.        , 22.87171653, 50.78322168, 76.96364801])"
      ]
     },
     "execution_count": 79,
     "metadata": {},
     "output_type": "execute_result"
    }
   ],
   "source": [
    "(df_y.t_days.values, df_y.y.values)\n",
    "error([1,1], df_y.t_days.values, df_y.abs_Q_discharge.values)"
   ]
  },
  {
   "cell_type": "code",
   "execution_count": 82,
   "metadata": {},
   "outputs": [
    {
     "data": {
      "text/plain": [
       "(0.00039428409797607783, 0.5942629179985293)"
      ]
     },
     "execution_count": 82,
     "metadata": {},
     "output_type": "execute_result"
    }
   ],
   "source": [
    "params, _ = optimize.leastsq(error, [1,1], args=(df_y.t_days.values, df_y.abs_Q_discharge.values))\n",
    "amp = params[0]\n",
    "power = params[1]\n",
    "amp, power"
   ]
  },
  {
   "cell_type": "code",
   "execution_count": null,
   "metadata": {},
   "outputs": [],
   "source": []
  }
 ],
 "metadata": {
  "kernelspec": {
   "display_name": "Python 3",
   "language": "python",
   "name": "python3"
  },
  "language_info": {
   "codemirror_mode": {
    "name": "ipython",
    "version": 3
   },
   "file_extension": ".py",
   "mimetype": "text/x-python",
   "name": "python",
   "nbconvert_exporter": "python",
   "pygments_lexer": "ipython3",
   "version": "3.7.4"
  }
 },
 "nbformat": 4,
 "nbformat_minor": 4
}
